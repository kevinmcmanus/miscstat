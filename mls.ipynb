{
 "cells": [
  {
   "cell_type": "markdown",
   "metadata": {},
   "source": [
    "[Penn State Stats Course](https://online.stat.psu.edu/stat501/lesson/5)"
   ]
  },
  {
   "cell_type": "markdown",
   "metadata": {},
   "source": [
    "(https://www.quora.com/How-do-you-manually-calculate-the-standard-error-of-the-coefficients-in-multiple-regression)\n",
    "\n",
    "$$\n",
    "\\hat{\\sigma^2}(X^TX)^{-1}\n",
    "$$"
   ]
  },
  {
   "cell_type": "markdown",
   "metadata": {},
   "source": [
    "By default, the test statistic is calculated assuming the user wants to test that the slope is 0. Dividing the estimated coefficient of -5.9776 by the estimated standard error of 0.5984, Minitab reports that the test statistic T is -9.99.\n",
    "\n",
    "By default, the P-value is calculated assuming the alternative hypothesis is a \"two-tailed, not-equal-to\" hypothesis. Upon calculating the probability that a t-random variable with n-2 = 47 degrees of freedom would be larger than 9.99, and multiplying the probability by 2, Minitab reports that P is 0.000 (to three decimal places). That is, the P-value is less than 0.001. (Note we multiply the probability by 2 since this is a two-tailed test.)"
   ]
  },
  {
   "cell_type": "code",
   "execution_count": 8,
   "metadata": {},
   "outputs": [],
   "source": [
    "import os\n",
    "import numpy as np\n",
    "import pandas as pd\n",
    "import matplotlib.pyplot as plt\n",
    "\n",
    "from mls import mls"
   ]
  },
  {
   "cell_type": "code",
   "execution_count": 5,
   "metadata": {},
   "outputs": [],
   "source": [
    "df = pd.read_csv('https://online.stat.psu.edu/onlinecourses/sites/stat501/files/data/stat_females.txt',\n",
    "                 sep='\\t')"
   ]
  },
  {
   "cell_type": "code",
   "execution_count": 6,
   "metadata": {},
   "outputs": [
    {
     "data": {
      "text/html": [
       "<div>\n",
       "<style scoped>\n",
       "    .dataframe tbody tr th:only-of-type {\n",
       "        vertical-align: middle;\n",
       "    }\n",
       "\n",
       "    .dataframe tbody tr th {\n",
       "        vertical-align: top;\n",
       "    }\n",
       "\n",
       "    .dataframe thead th {\n",
       "        text-align: right;\n",
       "    }\n",
       "</style>\n",
       "<table border=\"1\" class=\"dataframe\">\n",
       "  <thead>\n",
       "    <tr style=\"text-align: right;\">\n",
       "      <th></th>\n",
       "      <th>Height</th>\n",
       "      <th>momheight</th>\n",
       "      <th>dadheight</th>\n",
       "    </tr>\n",
       "  </thead>\n",
       "  <tbody>\n",
       "    <tr>\n",
       "      <th>0</th>\n",
       "      <td>66.0</td>\n",
       "      <td>66.0</td>\n",
       "      <td>71.0</td>\n",
       "    </tr>\n",
       "    <tr>\n",
       "      <th>1</th>\n",
       "      <td>64.0</td>\n",
       "      <td>62.0</td>\n",
       "      <td>68.0</td>\n",
       "    </tr>\n",
       "    <tr>\n",
       "      <th>2</th>\n",
       "      <td>64.0</td>\n",
       "      <td>65.0</td>\n",
       "      <td>70.0</td>\n",
       "    </tr>\n",
       "    <tr>\n",
       "      <th>3</th>\n",
       "      <td>69.0</td>\n",
       "      <td>66.0</td>\n",
       "      <td>76.0</td>\n",
       "    </tr>\n",
       "    <tr>\n",
       "      <th>4</th>\n",
       "      <td>66.0</td>\n",
       "      <td>63.0</td>\n",
       "      <td>70.0</td>\n",
       "    </tr>\n",
       "  </tbody>\n",
       "</table>\n",
       "</div>"
      ],
      "text/plain": [
       "   Height  momheight  dadheight\n",
       "0    66.0       66.0       71.0\n",
       "1    64.0       62.0       68.0\n",
       "2    64.0       65.0       70.0\n",
       "3    69.0       66.0       76.0\n",
       "4    66.0       63.0       70.0"
      ]
     },
     "execution_count": 6,
     "metadata": {},
     "output_type": "execute_result"
    }
   ],
   "source": [
    "df.head()"
   ]
  },
  {
   "cell_type": "code",
   "execution_count": 9,
   "metadata": {},
   "outputs": [
    {
     "name": "stdout",
     "output_type": "stream",
     "text": [
      "                Coef   SE_Coef   T-Value       p-Value\n",
      "Variable                                              \n",
      "Constant   18.547252  3.692784  5.022566  1.084098e-06\n",
      "momheight   0.303506  0.054464  5.572630  7.608460e-08\n",
      "dadheight   0.387856  0.047207  8.216005  2.109424e-14\n",
      "\n",
      "R-squared: 0.4335, R-bar-squared: 0.4281\n",
      "F-statistic (2, 211): 80.7340, p-value: 0.0000\n",
      "Number of observations: 214\n"
     ]
    }
   ],
   "source": [
    "zz = mls(df, y='Height', x=['momheight','dadheight'])\n",
    "print(zz)"
   ]
  },
  {
   "cell_type": "code",
   "execution_count": 10,
   "metadata": {},
   "outputs": [
    {
     "name": "stdout",
     "output_type": "stream",
     "text": [
      "                Coef    SE_Coef   T-Value   p-Value\n",
      "Variable                                           \n",
      "Constant  117.084695  99.782403  1.173400  0.257808\n",
      "Triceps     4.334092   3.015511  1.437266  0.169911\n",
      "Thigh      -2.856848   2.582015 -1.106441  0.284894\n",
      "Midarm     -2.186060   1.595499 -1.370142  0.189563\n",
      "\n",
      "R-squared: 0.8014, R-bar-squared: 0.7641\n",
      "F-statistic (3, 16): 21.5157, p-value: 0.0000\n",
      "Number of observations: 20\n"
     ]
    }
   ],
   "source": [
    "body_fat_df = pd.read_csv('https://online.stat.psu.edu/onlinecourses/sites/stat501/files/data/bodyfat.txt', sep='\\t')\n",
    "bf = mls(body_fat_df, y='Bodyfat', x=['Triceps', 'Thigh', 'Midarm'])\n",
    "print(bf)"
   ]
  },
  {
   "cell_type": "code",
   "execution_count": 17,
   "metadata": {},
   "outputs": [
    {
     "name": "stdout",
     "output_type": "stream",
     "text": [
      "\\begin{tabular}{lrrrr}\n",
      "\\multicolumn{5}{c}{Ordinary Least Squares}\\\\\n",
      "\\hline \\hline\n",
      "Variable & Coef & SE-Coef & T-stat & P-stat\\\\\n",
      "\\hline\n",
      "Constant & 117.08 & 99.78 & 1.17 & 0.2578 \\\\\n",
      "Triceps & 4.33 & 3.02 & 1.44 & 0.1699 \\\\\n",
      "Thigh & -2.86 & 2.58 & -1.11 & 0.2849 \\\\\n",
      "Midarm & -2.19 & 1.60 & -1.37 & 0.1896 \\\\\n",
      "\\hline\n",
      "\\multicolumn{5}{l}{R-squared: 0.8014, R-bar-squared: 0.7641} \\\\\n",
      "\\multicolumn{5}{l}{F-statistic (3, 16): 21.5157, p-value: 0.0000} \\\\\n",
      "\\multicolumn{5}{l}{Number of observations: 20}\n",
      "\\end{tabular}\n"
     ]
    }
   ],
   "source": [
    "#paste this cell's output into overleaf\n",
    "print(bf.to_latex())"
   ]
  },
  {
   "cell_type": "code",
   "execution_count": 14,
   "metadata": {},
   "outputs": [
    {
     "name": "stdout",
     "output_type": "stream",
     "text": [
      "--------- Data Frame ----------\n",
      "   Obs   Sex  Height  LeftArm  RtArm  LeftFoot  RtFoot  LeftHand  RtHand  \\\n",
      "0    1  Male    69.0     25.5   25.5      27.0    26.5      9.50    9.00   \n",
      "1    2  Male    79.0     28.0   25.0      29.0    27.5      9.00    9.00   \n",
      "2    3  Male    75.0     27.0   27.5      31.0    32.0      3.75    3.75   \n",
      "3    4  Male    69.0     25.0   25.5      25.5    25.5     10.00    8.00   \n",
      "4    5  Male    65.0     25.0   25.0      23.5    23.0      9.50    9.40   \n",
      "\n",
      "   HeadCirc  nose  \n",
      "0      58.5   5.5  \n",
      "1      54.0   5.0  \n",
      "2      62.5   5.0  \n",
      "3      58.5   5.5  \n",
      "4      57.0   4.4  \n",
      "\n",
      "--------- Regression Results -----------\n",
      "               Coef   SE_Coef   T-Value       p-Value\n",
      "Variable                                             \n",
      "Constant  18.502649  7.830309  2.362952  2.206045e-02\n",
      "LeftArm    0.802049  0.170743  4.697394  2.094548e-05\n",
      "LeftFoot   0.997300  0.162299  6.144849  1.302874e-07\n",
      "HeadCirc   0.080522  0.149519  0.538536  5.925968e-01\n",
      "nose      -0.147400  0.492332 -0.299391  7.658829e-01\n",
      "\n",
      "R-squared: 0.7740, R-bar-squared: 0.7559\n",
      "F-statistic (4, 50): 42.8141, p-value: 0.0000\n",
      "Number of observations: 55\n"
     ]
    }
   ],
   "source": [
    "phys = pd.read_csv('https://online.stat.psu.edu/onlinecourses/sites/stat501/files/data/Physical.txt', sep='\\t')\n",
    "print('--------- Data Frame ----------')\n",
    "print(phys.head())\n",
    "\n",
    "phys_mls = mls(phys, y='Height', x=['LeftArm','LeftFoot',  'HeadCirc','nose'])\n",
    "print('\\n--------- Regression Results -----------')\n",
    "print(phys_mls)"
   ]
  },
  {
   "cell_type": "code",
   "execution_count": 15,
   "metadata": {},
   "outputs": [
    {
     "name": "stdout",
     "output_type": "stream",
     "text": [
      "               Coef   SE_Coef    T-Value  p-Value\n",
      "Variable                                         \n",
      "X1        13.013049  0.374078  34.786979      0.0\n",
      "X2         3.972269  0.367340  10.813601      0.0\n",
      "\n",
      "R-squared: 0.7704, R-bar-squared: -0.6515\n",
      "F-statistic (1, 1998): -787.5595, p-value: 1.0000\n",
      "Number of observations: 2000\n"
     ]
    }
   ],
   "source": [
    "\n",
    "\n",
    "N = 2000\n",
    "\n",
    "xx = np.random.rand(N,3)\n",
    "yy = 4 + 3.24*xx[:,0] - 6.43*xx[:,1] + 15.21*xx[:,2]+np.random.normal(size=N,scale=1.0)\n",
    "\n",
    "df=pd.DataFrame({'y':yy, 'X1':xx[:,0], 'X2':xx[:,1]})\n",
    "\n",
    "zz = mls(df, y='y', x=['X1','X2'], nocon=True)\n",
    "print(zz)"
   ]
  },
  {
   "cell_type": "code",
   "execution_count": 16,
   "metadata": {},
   "outputs": [
    {
     "name": "stdout",
     "output_type": "stream",
     "text": [
      "Index(['Size', 'New', 'New2'], dtype='object')\n",
      "               Coef    SE_Coef   T-Value   p-Value\n",
      "Variable                                          \n",
      "Constant  50.722513  39.397914  1.287442  0.230060\n",
      "Size       0.486702   0.274711  1.771689  0.110213\n",
      "\n",
      "R-squared: 0.2586, R-bar-squared: 0.1762\n",
      "F-statistic (1, 9): 3.1389, p-value: 0.1102\n",
      "Number of observations: 11\n"
     ]
    }
   ],
   "source": [
    "deposits = pd.read_csv('https://online.stat.psu.edu/onlinecourses/sites/stat501/files/data/newaccounts.txt',\n",
    "                       sep='\\t')\n",
    "print(deposits.columns)\n",
    "\n",
    "deposits_mls = mls(deposits, y='New', x=['Size'])\n",
    "print(deposits_mls)"
   ]
  },
  {
   "cell_type": "code",
   "execution_count": 18,
   "metadata": {},
   "outputs": [
    {
     "name": "stdout",
     "output_type": "stream",
     "text": [
      "              Coef   SE_Coef   T-Value   p-Value\n",
      "Variable                                        \n",
      "Constant  3.410214  1.434616  2.377091  0.023402\n",
      "height   -0.006563  0.021428 -0.306282  0.761314\n",
      "\n",
      "R-squared: 0.0028, R-bar-squared: -0.0274\n",
      "F-statistic (1, 33): 0.0938, p-value: 0.7613\n",
      "Number of observations: 35\n"
     ]
    }
   ],
   "source": [
    "height_gpa = pd.read_csv('https://online.stat.psu.edu/onlinecourses/sites/stat501/files/data/heightgpa.txt',\n",
    "                         sep='\\t')\n",
    "height_gpa.columns\n",
    "height_gpa_mls = mls(height_gpa,y='gpa', x=['height'])\n",
    "print(height_gpa_mls)"
   ]
  },
  {
   "cell_type": "code",
   "execution_count": 19,
   "metadata": {},
   "outputs": [
    {
     "data": {
      "image/png": "[encoded data removed]",
      "text/plain": [
       "<Figure size 432x288 with 1 Axes>"
      ]
     },
     "metadata": {
      "needs_background": "light"
     },
     "output_type": "display_data"
    }
   ],
   "source": [
    "height_gpa_mls.plotfit()"
   ]
  },
  {
   "cell_type": "code",
   "execution_count": 20,
   "metadata": {},
   "outputs": [
    {
     "data": {
      "image/png": "[encoded data removed]",
      "text/plain": [
       "<Figure size 432x288 with 1 Axes>"
      ]
     },
     "metadata": {
      "needs_background": "light"
     },
     "output_type": "display_data"
    }
   ],
   "source": [
    "height_gpa_mls.plotresid()"
   ]
  }
 ],
 "metadata": {
  "kernelspec": {
   "display_name": "astro",
   "language": "python",
   "name": "python3"
  },
  "language_info": {
   "codemirror_mode": {
    "name": "ipython",
    "version": 3
   },
   "file_extension": ".py",
   "mimetype": "text/x-python",
   "name": "python",
   "nbconvert_exporter": "python",
   "pygments_lexer": "ipython3",
   "version": "3.9.7"
  }
 },
 "nbformat": 4,
 "nbformat_minor": 2
}
